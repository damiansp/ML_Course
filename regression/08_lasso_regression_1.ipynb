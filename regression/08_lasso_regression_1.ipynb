{
 "cells": [
  {
   "cell_type": "markdown",
   "metadata": {},
   "source": [
    "# Regression and Feature Selection using LASSO (Interpretation)"
   ]
  },
  {
   "cell_type": "markdown",
   "metadata": {},
   "source": [
    "Lasso regression uses the L1 penalty to drive more or fewer coefficients to 0 (according to the L1 penalty parameter) to reduce the set of predictors."
   ]
  },
  {
   "cell_type": "markdown",
   "metadata": {},
   "source": [
    "# Import Modules"
   ]
  },
  {
   "cell_type": "code",
   "execution_count": 1,
   "metadata": {
    "collapsed": false
   },
   "outputs": [
    {
     "name": "stderr",
     "output_type": "stream",
     "text": [
      "A newer version of GraphLab Create (v1.9) is available! Your current version is v1.8.3.\n",
      "\n",
      "You can use pip to upgrade the graphlab-create package. For more information see https://dato.com/products/create/upgrade.\n"
     ]
    }
   ],
   "source": [
    "import graphlab\n",
    "import numpy as np"
   ]
  },
  {
   "cell_type": "markdown",
   "metadata": {},
   "source": [
    "# Load in house sales data\n",
    "\n",
    "Dataset is from house sales in King County, the region where the city of Seattle, WA is located."
   ]
  },
  {
   "cell_type": "code",
   "execution_count": 2,
   "metadata": {
    "collapsed": false,
    "scrolled": true
   },
   "outputs": [
    {
     "name": "stderr",
     "output_type": "stream",
     "text": [
      "[INFO] GraphLab Create v1.8.3 started. Logging: /tmp/graphlab_server_1464301809.log\n"
     ]
    }
   ],
   "source": [
    "sales = graphlab.SFrame('kc_house_data.gl/')"
   ]
  },
  {
   "cell_type": "markdown",
   "metadata": {},
   "source": [
    "# Create new features"
   ]
  },
  {
   "cell_type": "code",
   "execution_count": 3,
   "metadata": {
    "collapsed": true
   },
   "outputs": [],
   "source": [
    "sales['sqft_living_sqrt'] = sales['sqft_living'].apply(np.sqrt)\n",
    "sales['sqft_lot_sqrt'] = sales['sqft_lot'].apply(np.sqrt)\n",
    "sales['bedrooms_square'] = sales['bedrooms'] * sales['bedrooms']\n",
    "\n",
    "# In the dataset, 'floors' was defined with type string; convert them to float first\n",
    "sales['floors'] = sales['floors'].astype(float) \n",
    "sales['floors_square'] = sales['floors'] * sales['floors']"
   ]
  },
  {
   "cell_type": "markdown",
   "metadata": {},
   "source": [
    "# Learn regression weights with L1 penalty"
   ]
  },
  {
   "cell_type": "markdown",
   "metadata": {},
   "source": [
    "Fit a model with all the features available, plus the features \n",
    "just created above."
   ]
  },
  {
   "cell_type": "code",
   "execution_count": 4,
   "metadata": {
    "collapsed": false
   },
   "outputs": [],
   "source": [
    "all_features = ['bedrooms', 'bedrooms_square', 'bathrooms', 'sqft_living', 'sqft_living_sqrt', 'sqft_lot', \n",
    "                'sqft_lot_sqrt', 'floors', 'floors_square', 'waterfront', 'view', 'condition', 'grade', 'sqft_above',\n",
    "                'sqft_basement', 'yr_built', 'yr_renovated']"
   ]
  },
  {
   "cell_type": "markdown",
   "metadata": {},
   "source": [
    "Implement LASSO in graphlab with the l1_penalty parameter:"
   ]
  },
  {
   "cell_type": "code",
   "execution_count": 5,
   "metadata": {
    "collapsed": false
   },
   "outputs": [],
   "source": [
    "model_all = graphlab.linear_regression.create(\n",
    "    sales, target = 'price', features = all_features, validation_set = None, l2_penalty = 0., l1_penalty = 1e10)"
   ]
  },
  {
   "cell_type": "markdown",
   "metadata": {},
   "source": [
    "Find what features had non-zero weight."
   ]
  },
  {
   "cell_type": "code",
   "execution_count": 6,
   "metadata": {
    "collapsed": false
   },
   "outputs": [
    {
     "name": "stdout",
     "output_type": "stream",
     "text": [
      "+------------------+-------+---------------+--------+\n",
      "|       name       | index |     value     | stderr |\n",
      "+------------------+-------+---------------+--------+\n",
      "|   (intercept)    |  None |  274873.05595 |  None  |\n",
      "|     bedrooms     |  None |      0.0      |  None  |\n",
      "| bedrooms_square  |  None |      0.0      |  None  |\n",
      "|    bathrooms     |  None | 8468.53108691 |  None  |\n",
      "|   sqft_living    |  None | 24.4207209824 |  None  |\n",
      "| sqft_living_sqrt |  None | 350.060553386 |  None  |\n",
      "|     sqft_lot     |  None |      0.0      |  None  |\n",
      "|  sqft_lot_sqrt   |  None |      0.0      |  None  |\n",
      "|      floors      |  None |      0.0      |  None  |\n",
      "|  floors_square   |  None |      0.0      |  None  |\n",
      "|    waterfront    |  None |      0.0      |  None  |\n",
      "|       view       |  None |      0.0      |  None  |\n",
      "|    condition     |  None |      0.0      |  None  |\n",
      "|      grade       |  None | 842.068034898 |  None  |\n",
      "|    sqft_above    |  None | 20.0247224171 |  None  |\n",
      "|  sqft_basement   |  None |      0.0      |  None  |\n",
      "|     yr_built     |  None |      0.0      |  None  |\n",
      "|   yr_renovated   |  None |      0.0      |  None  |\n",
      "+------------------+-------+---------------+--------+\n",
      "[18 rows x 4 columns]\n",
      "\n"
     ]
    }
   ],
   "source": [
    "model_all.get('coefficients').print_rows(num_rows = 18)"
   ]
  },
  {
   "cell_type": "markdown",
   "metadata": {},
   "source": [
    "# Selecting an L1 penalty"
   ]
  },
  {
   "cell_type": "markdown",
   "metadata": {},
   "source": [
    "Find a good L1 penalty, by exploring multiple values using a validation set. \n",
    "Split data into train, validation, and test sets:"
   ]
  },
  {
   "cell_type": "code",
   "execution_count": 7,
   "metadata": {
    "collapsed": true
   },
   "outputs": [],
   "source": [
    "(training_and_validation, testing) = sales.random_split(0.9, seed = 1) \n",
    "(training, validation) = training_and_validation.random_split(0.5, seed = 1) "
   ]
  },
  {
   "cell_type": "markdown",
   "metadata": {},
   "source": [
    "Next, loop through penalties [10^1, 10^1.5, 10^2, 10^2.5, ..., 10^7], and find the value with the best validation error."
   ]
  },
  {
   "cell_type": "code",
   "execution_count": 8,
   "metadata": {
    "collapsed": false
   },
   "outputs": [
    {
     "name": "stdout",
     "output_type": "stream",
     "text": [
      "rss: 6.25766285142e+14 lambda: 10.0\n",
      "rss: 6.25766285362e+14 lambda: 31.6227766017\n",
      "rss: 6.25766286058e+14 lambda: 100.0\n",
      "rss: 6.25766288257e+14 lambda: 316.227766017\n",
      "rss: 6.25766295212e+14 lambda: 1000.0\n",
      "rss: 6.25766317206e+14 lambda: 3162.27766017\n",
      "rss: 6.25766386761e+14 lambda: 10000.0\n",
      "rss: 6.25766606749e+14 lambda: 31622.7766017\n",
      "rss: 6.25767302792e+14 lambda: 100000.0\n",
      "rss: 6.25769507644e+14 lambda: 316227.766017\n",
      "rss: 6.25776517727e+14 lambda: 1000000.0\n",
      "rss: 6.25799062845e+14 lambda: 3162277.66017\n",
      "rss: 6.25883719085e+14 lambda: 10000000.0\n",
      "\n",
      "best lambda: 10.0 (rss: 6.25766285142e+14 )\n"
     ]
    }
   ],
   "source": [
    "best_lambda = 1.0\n",
    "best_rss = 9.99e20\n",
    "\n",
    "for penalty in np.logspace(1, 7, num = 13):\n",
    "    mod = graphlab.linear_regression.create(training, \n",
    "                                            target = 'price', \n",
    "                                            features = all_features, \n",
    "                                            validation_set = None, \n",
    "                                            l2_penalty = 0., \n",
    "                                            l1_penalty = penalty,\n",
    "                                            verbose = False)\n",
    "    preds = mod.predict(validation)\n",
    "    error = preds - validation['price']\n",
    "    rss = sum(error ** 2)\n",
    "    if rss < best_rss:\n",
    "        best_rss = rss\n",
    "        best_lambda = penalty\n",
    "    print 'rss:', rss, 'lambda:', penalty \n",
    "\n",
    "print ''\n",
    "print 'best lambda:', best_lambda, '(rss:', best_rss, ')'"
   ]
  },
  {
   "cell_type": "code",
   "execution_count": 11,
   "metadata": {
    "collapsed": false
   },
   "outputs": [
    {
     "name": "stdout",
     "output_type": "stream",
     "text": [
      "10000000.0\n"
     ]
    }
   ],
   "source": [
    "best_lambda"
   ]
  },
  {
   "cell_type": "code",
   "execution_count": 12,
   "metadata": {
    "collapsed": false
   },
   "outputs": [],
   "source": [
    "best_mod = graphlab.linear_regression.create(training, \n",
    "                                             target = 'price', \n",
    "                                             features = all_features, \n",
    "                                             validation_set = None, \n",
    "                                             l2_penalty = 0., \n",
    "                                             l1_penalty = best_lambda,\n",
    "                                             verbose = False)"
   ]
  },
  {
   "cell_type": "code",
   "execution_count": 14,
   "metadata": {
    "collapsed": false
   },
   "outputs": [
    {
     "name": "stdout",
     "output_type": "stream",
     "text": [
      "+------------------+------------------+\n",
      "|       name       |      value       |\n",
      "+------------------+------------------+\n",
      "|   (intercept)    |  18993.4272128   |\n",
      "|     bedrooms     |  7936.96767903   |\n",
      "| bedrooms_square  |  936.993368193   |\n",
      "|    bathrooms     |  25409.5889341   |\n",
      "|   sqft_living    |  39.1151363797   |\n",
      "| sqft_living_sqrt |  1124.65021281   |\n",
      "|     sqft_lot     | 0.00348361822299 |\n",
      "|  sqft_lot_sqrt   |  148.258391011   |\n",
      "|      floors      |   21204.335467   |\n",
      "|  floors_square   |  12915.5243361   |\n",
      "|    waterfront    |  601905.594545   |\n",
      "|       view       |  93312.8573119   |\n",
      "|    condition     |  6609.03571245   |\n",
      "|      grade       |  6206.93999188   |\n",
      "|    sqft_above    |  43.2870534193   |\n",
      "|  sqft_basement   |  122.367827534   |\n",
      "|     yr_built     |  9.43363539372   |\n",
      "|   yr_renovated   |  56.0720034488   |\n",
      "+------------------+------------------+\n",
      "[18 rows x 2 columns]\n",
      "\n",
      "None\n",
      "Number zeroed: 18\n"
     ]
    }
   ],
   "source": [
    "coef_table = best_mod.get('coefficients')\n",
    "print coef_table[['name', 'value']].print_rows(num_rows = 18)\n",
    "print 'Number zeroed:', best_mod['coefficients']['value'].nnz()"
   ]
  },
  {
   "cell_type": "markdown",
   "metadata": {},
   "source": [
    "# Limit the number of nonzero weights\n",
    "\n",
    "Suppose we want or need to limit the number of predictors to, say, 7 features? "
   ]
  },
  {
   "cell_type": "code",
   "execution_count": 15,
   "metadata": {
    "collapsed": false
   },
   "outputs": [],
   "source": [
    "max_nonzeros = 7"
   ]
  },
  {
   "cell_type": "markdown",
   "metadata": {},
   "source": [
    "## Explore a larger range of values to find a narrow range with the desired sparsity\n",
    "\n",
    "Define a wide range of possible `l1_penalty_values`:"
   ]
  },
  {
   "cell_type": "code",
   "execution_count": 16,
   "metadata": {
    "collapsed": false
   },
   "outputs": [],
   "source": [
    "l1_penalty_values = np.logspace(8, 10, num = 20)"
   ]
  },
  {
   "cell_type": "markdown",
   "metadata": {},
   "source": [
    "For different l1_penalty values, track the number of non-zero coefficents:"
   ]
  },
  {
   "cell_type": "code",
   "execution_count": 17,
   "metadata": {
    "collapsed": false
   },
   "outputs": [
    {
     "name": "stdout",
     "output_type": "stream",
     "text": [
      "no. coeffs: 18 lambda: 100000000.0\n",
      "no. coeffs: 18 lambda: 127427498.57\n",
      "no. coeffs: 18 lambda: 162377673.919\n",
      "no. coeffs: 18 lambda: 206913808.111\n",
      "no. coeffs: 17 lambda: 263665089.873\n",
      "no. coeffs: 17 lambda: 335981828.628\n",
      "no. coeffs: 17 lambda: 428133239.872\n",
      "no. coeffs: 17 lambda: 545559478.117\n",
      "no. coeffs: 17 lambda: 695192796.178\n",
      "no. coeffs: 16 lambda: 885866790.41\n",
      "no. coeffs: 15 lambda: 1128837891.68\n",
      "no. coeffs: 15 lambda: 1438449888.29\n",
      "no. coeffs: 13 lambda: 1832980710.83\n",
      "no. coeffs: 12 lambda: 2335721469.09\n",
      "no. coeffs: 10 lambda: 2976351441.63\n",
      "no. coeffs: 6 lambda: 3792690190.73\n",
      "no. coeffs: 5 lambda: 4832930238.57\n",
      "no. coeffs: 3 lambda: 6158482110.66\n",
      "no. coeffs: 1 lambda: 7847599703.51\n",
      "no. coeffs: 1 lambda: 10000000000.0\n"
     ]
    }
   ],
   "source": [
    "for penalty in l1_penalty_values:\n",
    "    mod = graphlab.linear_regression.create(training, \n",
    "                                            target = 'price', \n",
    "                                            features = all_features, \n",
    "                                            validation_set = None, \n",
    "                                            l2_penalty = 0., \n",
    "                                            l1_penalty = penalty,\n",
    "                                            verbose = False)\n",
    "    mod_coeffs = mod['coefficients']['value']\n",
    "    print 'no. coeffs:', mod_coeffs.nnz(), 'lambda:', penalty\n"
   ]
  },
  {
   "cell_type": "markdown",
   "metadata": {},
   "source": [
    "\"Zoom in\" to the area around 7 coefficients to get finer resolution of penalty values."
   ]
  },
  {
   "cell_type": "code",
   "execution_count": 18,
   "metadata": {
    "collapsed": true
   },
   "outputs": [],
   "source": [
    "l1_penalty_min = 2976351441.63\n",
    "l1_penalty_max = 3792690190.73"
   ]
  },
  {
   "cell_type": "code",
   "execution_count": 20,
   "metadata": {
    "collapsed": true
   },
   "outputs": [],
   "source": [
    "# Look at log-spaced values within this range\n",
    "l1_penalty_values = np.linspace(l1_penalty_min, l1_penalty_max, 20)"
   ]
  },
  {
   "cell_type": "code",
   "execution_count": 21,
   "metadata": {
    "collapsed": false
   },
   "outputs": [
    {
     "name": "stdout",
     "output_type": "stream",
     "text": [
      "rss: 9.66925692362e+14 no. params: 10 lambda: 2976351441.63\n",
      "rss: 9.74019450085e+14 no. params: 10 lambda: 3019316638.95\n",
      "rss: 9.81188367942e+14 no. params: 10 lambda: 3062281836.27\n",
      "rss: 9.89328342459e+14 no. params: 10 lambda: 3105247033.59\n",
      "rss: 9.98783211266e+14 no. params: 10 lambda: 3148212230.91\n",
      "rss: 1.00847716702e+15 no. params: 10 lambda: 3191177428.24\n",
      "rss: 1.01829878055e+15 no. params: 10 lambda: 3234142625.56\n",
      "rss: 1.02824799221e+15 no. params: 10 lambda: 3277107822.88\n",
      "rss: 1.03461690923e+15 no. params: 8 lambda: 3320073020.2\n",
      "rss: 1.03855473594e+15 no. params: 8 lambda: 3363038217.52\n",
      "rss: 1.04323723787e+15 no. params: 8 lambda: 3406003414.84\n",
      "rss: 1.04693748875e+15 no. params: 7 lambda: 3448968612.16\n",
      "rss: 1.05114762561e+15 no. params: 7 lambda: 3491933809.48\n",
      "rss: 1.05599273534e+15 no. params: 7 lambda: 3534899006.8\n",
      "rss: 1.06079953176e+15 no. params: 7 lambda: 3577864204.12\n",
      "rss: 1.0657076895e+15 no. params: 6 lambda: 3620829401.45\n",
      "rss: 1.06946433543e+15 no. params: 6 lambda: 3663794598.77\n",
      "rss: 1.07350454959e+15 no. params: 6 lambda: 3706759796.09\n",
      "rss: 1.07763277558e+15 no. params: 6 lambda: 3749724993.41\n",
      "rss: 1.08186759232e+15 no. params: 6 lambda: 3792690190.73\n"
     ]
    }
   ],
   "source": [
    "for l1_penalty in l1_penalty_values:\n",
    "    mod = graphlab.linear_regression.create(training, \n",
    "                                            target = 'price', \n",
    "                                            features = all_features, \n",
    "                                            validation_set = None, \n",
    "                                            l2_penalty = 0., \n",
    "                                            l1_penalty = l1_penalty,\n",
    "                                            verbose = False)\n",
    "    mod_coeffs = mod['coefficients']['value']\n",
    "    num_params = mod_coeffs.nnz()\n",
    "    preds = mod.predict(validation)\n",
    "    error = preds - validation['price']\n",
    "    rss = sum(error ** 2)\n",
    "    print 'rss:', rss, 'no. params:', num_params, 'lambda:', l1_penalty\n",
    "    "
   ]
  },
  {
   "cell_type": "code",
   "execution_count": 22,
   "metadata": {
    "collapsed": false
   },
   "outputs": [
    {
     "name": "stdout",
     "output_type": "stream",
     "text": [
      "+------------------+-------+---------------+--------+\n",
      "|       name       | index |     value     | stderr |\n",
      "+------------------+-------+---------------+--------+\n",
      "|   (intercept)    |  None | 222253.192544 |  None  |\n",
      "|     bedrooms     |  None | 661.722717782 |  None  |\n",
      "| bedrooms_square  |  None |      0.0      |  None  |\n",
      "|    bathrooms     |  None | 15873.9572593 |  None  |\n",
      "|   sqft_living    |  None | 32.4102214513 |  None  |\n",
      "| sqft_living_sqrt |  None | 690.114773313 |  None  |\n",
      "|     sqft_lot     |  None |      0.0      |  None  |\n",
      "|  sqft_lot_sqrt   |  None |      0.0      |  None  |\n",
      "|      floors      |  None |      0.0      |  None  |\n",
      "|  floors_square   |  None |      0.0      |  None  |\n",
      "|    waterfront    |  None |      0.0      |  None  |\n",
      "|       view       |  None |      0.0      |  None  |\n",
      "|    condition     |  None |      0.0      |  None  |\n",
      "|      grade       |  None | 2899.42026975 |  None  |\n",
      "|    sqft_above    |  None | 30.0115753022 |  None  |\n",
      "|  sqft_basement   |  None |      0.0      |  None  |\n",
      "|     yr_built     |  None |      0.0      |  None  |\n",
      "|   yr_renovated   |  None |      0.0      |  None  |\n",
      "+------------------+-------+---------------+--------+\n",
      "[18 rows x 4 columns]\n",
      "\n"
     ]
    }
   ],
   "source": [
    "best_lambda7 = 3448968612.16\n",
    "best_mod = graphlab.linear_regression.create(training, \n",
    "                                             target = 'price', \n",
    "                                             features = all_features, \n",
    "                                             validation_set = None, \n",
    "                                             l2_penalty = 0., \n",
    "                                             l1_penalty = best_lambda7,\n",
    "                                             verbose = False)\n",
    "best_mod['coefficients'].print_rows(num_rows = 18)"
   ]
  }
 ],
 "metadata": {
  "kernelspec": {
   "display_name": "Python 2",
   "language": "python",
   "name": "python2"
  },
  "language_info": {
   "codemirror_mode": {
    "name": "ipython",
    "version": 2
   },
   "file_extension": ".py",
   "mimetype": "text/x-python",
   "name": "python",
   "nbconvert_exporter": "python",
   "pygments_lexer": "ipython2",
   "version": "2.7.11"
  }
 },
 "nbformat": 4,
 "nbformat_minor": 0
}
