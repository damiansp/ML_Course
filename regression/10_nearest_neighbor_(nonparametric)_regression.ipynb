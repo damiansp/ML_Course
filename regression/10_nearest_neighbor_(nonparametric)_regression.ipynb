{
 "cells": [
  {
   "cell_type": "markdown",
   "metadata": {},
   "source": [
    "# Predicting house prices using k-nearest neighbors regression"
   ]
  },
  {
   "cell_type": "markdown",
   "metadata": {},
   "source": [
    "# Imports"
   ]
  },
  {
   "cell_type": "code",
   "execution_count": 32,
   "metadata": {
    "collapsed": true
   },
   "outputs": [],
   "source": [
    "import graphlab\n",
    "import numpy as np\n",
    "import matplotlib.pyplot as plt\n",
    "\n",
    "%matplotlib inline"
   ]
  },
  {
   "cell_type": "markdown",
   "metadata": {},
   "source": [
    "# Load in house sales data"
   ]
  },
  {
   "cell_type": "markdown",
   "metadata": {},
   "source": [
    "For this notebook, we use a subset of the King County housing dataset created by randomly selecting 40% of the houses in the full dataset."
   ]
  },
  {
   "cell_type": "code",
   "execution_count": 2,
   "metadata": {
    "collapsed": false
   },
   "outputs": [
    {
     "name": "stderr",
     "output_type": "stream",
     "text": [
      "2016-05-28 18:40:32,582 [INFO] graphlab.cython.cy_server, 176: GraphLab Create v1.9 started. Logging: /tmp/graphlab_server_1464475230.log\n"
     ]
    },
    {
     "name": "stdout",
     "output_type": "stream",
     "text": [
      "This non-commercial license of GraphLab Create is assigned to damiansp@gmail.com and will expire on March 07, 2017. For commercial licensing options, visit https://dato.com/buy/.\n"
     ]
    }
   ],
   "source": [
    "sales = graphlab.SFrame('kc_house_data_small.gl/')"
   ]
  },
  {
   "cell_type": "markdown",
   "metadata": {},
   "source": [
    "# Copy useful functions from previous notebooks"
   ]
  },
  {
   "cell_type": "code",
   "execution_count": 3,
   "metadata": {
    "collapsed": true
   },
   "outputs": [],
   "source": [
    "def get_numpy_data(data_sframe, features, output):\n",
    "    data_sframe['constant'] = 1 \n",
    "    features = ['constant'] + features \n",
    "    features_sframe = data_sframe[features]\n",
    "    print features_sframe.head()\n",
    "\n",
    "    feature_matrix = features_sframe.to_numpy()\n",
    "    output_sarray = data_sframe[output]\n",
    "\n",
    "    output_array = output_sarray.to_numpy()\n",
    "\n",
    "    return(feature_matrix, output_array)"
   ]
  },
  {
   "cell_type": "code",
   "execution_count": 4,
   "metadata": {
    "collapsed": true
   },
   "outputs": [],
   "source": [
    "def normalize_features(feature_matrix):\n",
    "    norms = np.linalg.norm(feature_matrix, axis = 0)\n",
    "    normalized_features = feature_matrix / norms\n",
    "    return (normalized_features, norms)"
   ]
  },
  {
   "cell_type": "markdown",
   "metadata": {},
   "source": [
    "# Split data into training, test, and validation sets"
   ]
  },
  {
   "cell_type": "code",
   "execution_count": 5,
   "metadata": {
    "collapsed": false
   },
   "outputs": [],
   "source": [
    "(train_and_validation, test) = sales.random_split(0.8, seed = 1) \n",
    "(train, validation) = train_and_validation.random_split(0.8, seed = 1)"
   ]
  },
  {
   "cell_type": "markdown",
   "metadata": {},
   "source": [
    "# Extract features and normalize"
   ]
  },
  {
   "cell_type": "code",
   "execution_count": 6,
   "metadata": {
    "collapsed": false
   },
   "outputs": [
    {
     "name": "stdout",
     "output_type": "stream",
     "text": [
      "+----------+----------+-----------+-------------+----------+--------+------------+\n",
      "| constant | bedrooms | bathrooms | sqft_living | sqft_lot | floors | waterfront |\n",
      "+----------+----------+-----------+-------------+----------+--------+------------+\n",
      "|    1     |   3.0    |    1.0    |    1180.0   |   5650   |  1.0   |     0      |\n",
      "|    1     |   3.0    |    2.25   |    2570.0   |   7242   |  2.0   |     0      |\n",
      "|    1     |   2.0    |    1.0    |    770.0    |  10000   |  1.0   |     0      |\n",
      "|    1     |   4.0    |    3.0    |    1960.0   |   5000   |  1.0   |     0      |\n",
      "|    1     |   3.0    |    2.0    |    1680.0   |   8080   |  1.0   |     0      |\n",
      "|    1     |   3.0    |    1.5    |    1060.0   |   9711   |  1.0   |     0      |\n",
      "|    1     |   3.0    |    1.0    |    1780.0   |   7470   |  1.0   |     0      |\n",
      "|    1     |   3.0    |    2.5    |    3560.0   |   9796   |  1.0   |     0      |\n",
      "|    1     |   3.0    |    1.75   |    2450.0   |   2691   |  2.0   |     0      |\n",
      "|    1     |   3.0    |    1.0    |    1400.0   |   1581   |  1.5   |     0      |\n",
      "+----------+----------+-----------+-------------+----------+--------+------------+\n",
      "+------+-----------+-------+------------+---------------+----------+--------------+\n",
      "| view | condition | grade | sqft_above | sqft_basement | yr_built | yr_renovated |\n",
      "+------+-----------+-------+------------+---------------+----------+--------------+\n",
      "|  0   |     3     |   7   |    1180    |       0       |   1955   |      0       |\n",
      "|  0   |     3     |   7   |    2170    |      400      |   1951   |     1991     |\n",
      "|  0   |     3     |   6   |    770     |       0       |   1933   |      0       |\n",
      "|  0   |     5     |   7   |    1050    |      910      |   1965   |      0       |\n",
      "|  0   |     3     |   8   |    1680    |       0       |   1987   |      0       |\n",
      "|  0   |     3     |   7   |    1060    |       0       |   1963   |      0       |\n",
      "|  0   |     3     |   7   |    1050    |      730      |   1960   |      0       |\n",
      "|  0   |     3     |   8   |    1860    |      1700     |   1965   |      0       |\n",
      "|  0   |     3     |   8   |    1750    |      700      |   1915   |      0       |\n",
      "|  0   |     5     |   8   |    1400    |       0       |   1909   |      0       |\n",
      "+------+-----------+-------+------------+---------------+----------+--------------+\n",
      "+-------------+---------------+---------------+------------+\n",
      "|     lat     |      long     | sqft_living15 | sqft_lot15 |\n",
      "+-------------+---------------+---------------+------------+\n",
      "| 47.51123398 | -122.25677536 |     1340.0    |   5650.0   |\n",
      "| 47.72102274 |  -122.3188624 |     1690.0    |   7639.0   |\n",
      "| 47.73792661 | -122.23319601 |     2720.0    |   8062.0   |\n",
      "|   47.52082  | -122.39318505 |     1360.0    |   5000.0   |\n",
      "| 47.61681228 | -122.04490059 |     1800.0    |   7503.0   |\n",
      "| 47.40949984 | -122.31457273 |     1650.0    |   9711.0   |\n",
      "| 47.51229381 | -122.33659507 |     1780.0    |   8113.0   |\n",
      "| 47.60065993 | -122.14529566 |     2210.0    |   8925.0   |\n",
      "| 47.63855772 | -122.35985573 |     1760.0    |   3573.0   |\n",
      "| 47.62209564 |  -122.3143388 |     1860.0    |   3861.0   |\n",
      "+-------------+---------------+---------------+------------+\n",
      "[10 rows x 18 columns]\n",
      "\n",
      "+----------+----------+-----------+-------------+----------+--------+------------+\n",
      "| constant | bedrooms | bathrooms | sqft_living | sqft_lot | floors | waterfront |\n",
      "+----------+----------+-----------+-------------+----------+--------+------------+\n",
      "|    1     |   4.0    |    3.0    |    2950.0   |   5000   |  2.0   |     0      |\n",
      "|    1     |   4.0    |    1.0    |    1600.0   |   4300   |  1.5   |     0      |\n",
      "|    1     |   3.0    |    1.75   |    1520.0   |   6380   |  1.0   |     0      |\n",
      "|    1     |   3.0    |    1.0    |    1090.0   |   3000   |  1.5   |     0      |\n",
      "|    1     |   4.0    |    2.5    |    2290.0   |  13416   |  2.0   |     0      |\n",
      "|    1     |   4.0    |    2.5    |    2720.0   |  11049   |  2.0   |     0      |\n",
      "|    1     |   4.0    |    2.5    |    2240.0   |   4648   |  2.0   |     0      |\n",
      "|    1     |   2.0    |    1.0    |    2020.0   |   6720   |  1.0   |     0      |\n",
      "|    1     |   5.0    |    2.25   |    2660.0   |   8400   |  1.5   |     0      |\n",
      "|    1     |   3.0    |    3.5    |    1590.0   |   1102   |  3.0   |     0      |\n",
      "+----------+----------+-----------+-------------+----------+--------+------------+\n",
      "+------+-----------+-------+------------+---------------+----------+--------------+\n",
      "| view | condition | grade | sqft_above | sqft_basement | yr_built | yr_renovated |\n",
      "+------+-----------+-------+------------+---------------+----------+--------------+\n",
      "|  3   |     3     |   9   |    1980    |      970      |   1979   |      0       |\n",
      "|  0   |     4     |   7   |    1600    |       0       |   1916   |      0       |\n",
      "|  0   |     3     |   7   |    790     |      730      |   1948   |      0       |\n",
      "|  0   |     4     |   8   |    1090    |       0       |   1929   |      0       |\n",
      "|  0   |     4     |   9   |    2290    |       0       |   1981   |      0       |\n",
      "|  0   |     3     |   10  |    2720    |       0       |   1989   |      0       |\n",
      "|  0   |     3     |   7   |    2240    |       0       |   2005   |      0       |\n",
      "|  0   |     3     |   7   |    1010    |      1010     |   1948   |      0       |\n",
      "|  0   |     5     |   7   |    2660    |       0       |   1961   |      0       |\n",
      "|  0   |     3     |   8   |    1590    |       0       |   2010   |      0       |\n",
      "+------+-----------+-------+------------+---------------+----------+--------------+\n",
      "+-------------+---------------+---------------+------------+\n",
      "|     lat     |      long     | sqft_living15 | sqft_lot15 |\n",
      "+-------------+---------------+---------------+------------+\n",
      "| 47.57136955 | -122.37541218 |     2140.0    |   4000.0   |\n",
      "| 47.66478645 | -122.34281613 |     1610.0    |   4300.0   |\n",
      "| 47.69499723 | -122.30354713 |     1520.0    |   6235.0   |\n",
      "| 47.68889559 |  -122.3752359 |     1570.0    |   5080.0   |\n",
      "| 47.61936265 | -122.15116797 |     2680.0    |  13685.0   |\n",
      "| 47.58148717 | -122.19160369 |     2750.0    |  11049.0   |\n",
      "|  47.337843  |  -122.2566985 |     2221.0    |   4557.0   |\n",
      "| 47.54744903 | -122.29061565 |     1720.0    |   6720.0   |\n",
      "| 47.29094504 | -122.18878047 |     1590.0    |   8165.0   |\n",
      "| 47.68235582 | -122.34691744 |     1620.0    |   3166.0   |\n",
      "+-------------+---------------+---------------+------------+\n",
      "[10 rows x 18 columns]\n",
      "\n",
      "+----------+----------+-----------+-------------+----------+--------+------------+\n",
      "| constant | bedrooms | bathrooms | sqft_living | sqft_lot | floors | waterfront |\n",
      "+----------+----------+-----------+-------------+----------+--------+------------+\n",
      "|    1     |   4.0    |    1.75   |    1620.0   |   4980   |  1.0   |     0      |\n",
      "|    1     |   5.0    |    2.5    |    2270.0   |   6300   |  2.0   |     0      |\n",
      "|    1     |   4.0    |    1.75   |    2330.0   |   5000   |  1.5   |     0      |\n",
      "|    1     |   3.0    |    1.0    |    1570.0   |   2280   |  2.0   |     0      |\n",
      "|    1     |   4.0    |    3.0    |    1850.0   |   9976   |  2.0   |     0      |\n",
      "|    1     |   4.0    |    2.5    |    3300.0   |  10250   |  1.0   |     0      |\n",
      "|    1     |   4.0    |    1.5    |    1160.0   |   6400   |  1.0   |     0      |\n",
      "|    1     |   3.0    |    2.5    |    2340.0   |  10005   |  1.0   |     0      |\n",
      "|    1     |   4.0    |    2.5    |    2310.0   |   9624   |  2.0   |     0      |\n",
      "|    1     |   3.0    |    1.75   |    1320.0   |  17390   |  1.0   |     0      |\n",
      "+----------+----------+-----------+-------------+----------+--------+------------+\n",
      "+------+-----------+-------+------------+---------------+----------+--------------+\n",
      "| view | condition | grade | sqft_above | sqft_basement | yr_built | yr_renovated |\n",
      "+------+-----------+-------+------------+---------------+----------+--------------+\n",
      "|  0   |     4     |   7   |    860     |      760      |   1947   |      0       |\n",
      "|  0   |     3     |   8   |    2270    |       0       |   1995   |      0       |\n",
      "|  0   |     4     |   7   |    1510    |      820      |   1929   |      0       |\n",
      "|  0   |     3     |   7   |    1570    |       0       |   1922   |      0       |\n",
      "|  0   |     3     |   8   |    1850    |       0       |   1991   |      0       |\n",
      "|  0   |     3     |   7   |    2390    |      910      |   1946   |     1991     |\n",
      "|  0   |     4     |   7   |    1160    |       0       |   1975   |      0       |\n",
      "|  0   |     4     |   8   |    1460    |      880      |   1978   |      0       |\n",
      "|  0   |     3     |   8   |    2310    |       0       |   1984   |      0       |\n",
      "|  0   |     4     |   7   |    1320    |       0       |   1956   |      0       |\n",
      "+------+-----------+-------+------------+---------------+----------+--------------+\n",
      "+-------------+---------------+---------------+------------+\n",
      "|     lat     |      long     | sqft_living15 | sqft_lot15 |\n",
      "+-------------+---------------+---------------+------------+\n",
      "| 47.70254623 | -122.34092912 |     1400.0    |   4980.0   |\n",
      "| 47.32658071 | -122.16892624 |     2240.0    |   7005.0   |\n",
      "| 47.68228235 | -122.36760203 |     1460.0    |   5000.0   |\n",
      "| 47.64125801 | -122.36410253 |     1580.0    |   2640.0   |\n",
      "| 47.50591927 |  -122.148962  |     2270.0    |   8542.0   |\n",
      "| 47.58733195 |  -122.2487651 |     1950.0    |   6045.0   |\n",
      "| 47.30357767 | -122.37782086 |     1160.0    |   6400.0   |\n",
      "|  47.4430551 | -122.13256621 |     2250.0    |   8162.0   |\n",
      "| 47.53855942 | -122.05274086 |     1940.0    |   9636.0   |\n",
      "| 47.32571377 | -122.29561969 |     1550.0    |  19265.0   |\n",
      "+-------------+---------------+---------------+------------+\n",
      "[10 rows x 18 columns]\n",
      "\n"
     ]
    }
   ],
   "source": [
    "feature_list = ['bedrooms',  \n",
    "                'bathrooms',  \n",
    "                'sqft_living',  \n",
    "                'sqft_lot',  \n",
    "                'floors',\n",
    "                'waterfront',  \n",
    "                'view',  \n",
    "                'condition',  \n",
    "                'grade',  \n",
    "                'sqft_above',  \n",
    "                'sqft_basement',\n",
    "                'yr_built',  \n",
    "                'yr_renovated',  \n",
    "                'lat',  \n",
    "                'long',  \n",
    "                'sqft_living15',  \n",
    "                'sqft_lot15']\n",
    "features_train, output_train = get_numpy_data(train, feature_list, 'price')\n",
    "features_test, output_test = get_numpy_data(test, feature_list, 'price')\n",
    "features_valid, output_valid = get_numpy_data(validation, feature_list, 'price')"
   ]
  },
  {
   "cell_type": "markdown",
   "metadata": {},
   "source": [
    "# Normalize"
   ]
  },
  {
   "cell_type": "code",
   "execution_count": 7,
   "metadata": {
    "collapsed": true
   },
   "outputs": [],
   "source": [
    "features_train, norms = normalize_features(features_train) # normalize training set features (columns)\n",
    "features_test = features_test / norms # normalize test set by training set norms\n",
    "features_valid = features_valid / norms # normalize validation set by training set norms"
   ]
  },
  {
   "cell_type": "markdown",
   "metadata": {},
   "source": [
    "# Compute a single distance"
   ]
  },
  {
   "cell_type": "markdown",
   "metadata": {},
   "source": [
    "Compute the \"distance\" between two given houses.  Take the **query house** to be the first house of the test set and look at the distance between it and the 10th house of the training set."
   ]
  },
  {
   "cell_type": "code",
   "execution_count": 8,
   "metadata": {
    "collapsed": false
   },
   "outputs": [
    {
     "name": "stdout",
     "output_type": "stream",
     "text": [
      "[ 0.01345102  0.01551285  0.01807473  0.01759212  0.00160518  0.017059    0.\n",
      "  0.05102365  0.0116321   0.01564352  0.01362084  0.02481682  0.01350306\n",
      "  0.          0.01345386 -0.01346927  0.01375926  0.0016225 ]\n"
     ]
    }
   ],
   "source": [
    "print features_test[0]\n",
    "# Same as:\n",
    "# print features_test[0, :]"
   ]
  },
  {
   "cell_type": "code",
   "execution_count": 9,
   "metadata": {
    "collapsed": false
   },
   "outputs": [
    {
     "data": {
      "text/plain": [
       "array([ 0.01345102,  0.01163464,  0.00602491,  0.0083488 ,  0.00050756,\n",
       "        0.01279425,  0.        ,  0.        ,  0.01938684,  0.01390535,\n",
       "        0.0096309 ,  0.        ,  0.01302544,  0.        ,  0.01346821,\n",
       "       -0.01346254,  0.01195898,  0.00156612])"
      ]
     },
     "execution_count": 9,
     "metadata": {},
     "output_type": "execute_result"
    }
   ],
   "source": [
    "features_train[9]"
   ]
  },
  {
   "cell_type": "code",
   "execution_count": 13,
   "metadata": {
    "collapsed": false
   },
   "outputs": [],
   "source": [
    "def dist_euclidean(v1, v2):\n",
    "    '''Return the Euclidean distance between two vectors, v1 and v2'''\n",
    "    return np.sqrt(sum((v1 - v2) ** 2))\n",
    "    # return np.sqrt(sum([(a - b) ** 2 for (a, b) in zip(v1, v2)]))"
   ]
  },
  {
   "cell_type": "markdown",
   "metadata": {},
   "source": [
    "# Compute multiple distances"
   ]
  },
  {
   "cell_type": "markdown",
   "metadata": {},
   "source": [
    "To do nearest neighbor regression, compute the distance between our query house and *all* houses in the training set.  \n",
    "\n",
    "To visualize this nearest-neighbor search, let's first compute the distance from our query house (`features_test[0]`) to the first 10 houses of the training set (`features_train[0:10]`) and then search for the nearest neighbor within this small set of houses.  With this small set of houses, visually scan the list of 10 distances to verify that the code for finding the nearest neighbor is working."
   ]
  },
  {
   "cell_type": "code",
   "execution_count": 15,
   "metadata": {
    "collapsed": false
   },
   "outputs": [
    {
     "name": "stdout",
     "output_type": "stream",
     "text": [
      "0.060274709173\n",
      "0.0854688114883\n",
      "0.0614994643712\n",
      "0.0534027397882\n",
      "0.0584448406394\n",
      "0.0598792151018\n",
      "0.0546314049726\n",
      "0.0554310832416\n",
      "0.052383627841\n",
      "0.0597235937167\n"
     ]
    }
   ],
   "source": [
    "first10dists = []\n",
    "for v in features_train[0:10]:\n",
    "    first10dists.append(dist_euclidean(features_test[0], v))\n",
    "\n",
    "for d in first10dists:\n",
    "    print d"
   ]
  },
  {
   "cell_type": "code",
   "execution_count": 16,
   "metadata": {
    "collapsed": false
   },
   "outputs": [
    {
     "name": "stdout",
     "output_type": "stream",
     "text": [
      "min dist: 0.052383627841\n",
      "index: 8 ( house: 9 )\n"
     ]
    }
   ],
   "source": [
    "print 'min dist:', min(first10dists)\n",
    "min_index = first10dists.index(min(first10dists))\n",
    "print 'index:', min_index, '( house:', min_index + 1, ')'"
   ]
  },
  {
   "cell_type": "markdown",
   "metadata": {},
   "source": [
    "It is computationally inefficient to loop over computing distances to all houses in our training dataset. Fortunately, many of the numpy functions can be **vectorized**, applying the same operation over multiple values or vectors."
   ]
  },
  {
   "cell_type": "markdown",
   "metadata": {},
   "source": [
    "# Perform 1-nearest neighbor regression\n",
    "\n",
    "Now that we have the element-wise differences, it is not too hard to compute the Euclidean distances between our query house and all of the training houses. "
   ]
  },
  {
   "cell_type": "code",
   "execution_count": 18,
   "metadata": {
    "collapsed": false
   },
   "outputs": [
    {
     "data": {
      "text/plain": [
       "0.023708232449603735"
      ]
     },
     "execution_count": 18,
     "metadata": {},
     "output_type": "execute_result"
    }
   ],
   "source": [
    "def get_all_euclidean_distances(feature_matrix, query_vector):\n",
    "    return np.sqrt(np.sum((feature_matrix[:] - query_vector) ** 2, axis = 1))\n",
    "\n",
    "# test\n",
    "get_all_euclidean_distances(features_train, features_test[0])[100]"
   ]
  },
  {
   "cell_type": "code",
   "execution_count": 20,
   "metadata": {
    "collapsed": false
   },
   "outputs": [
    {
     "name": "stdout",
     "output_type": "stream",
     "text": [
      "Index of nearest neighbor: (array([382]),)\n",
      "distance: [ 0.0028605]\n"
     ]
    }
   ],
   "source": [
    "house2_dists = get_all_euclidean_distances(features_train, features_test[2])\n",
    "best = min(house2_dists)\n",
    "best_index = np.where(house2_dists == best)\n",
    "print 'Index of nearest neighbor:', best_index\n",
    "print 'distance:', house2_dists[best_index]"
   ]
  },
  {
   "cell_type": "code",
   "execution_count": 22,
   "metadata": {
    "collapsed": false
   },
   "outputs": [
    {
     "data": {
      "text/plain": [
       "array([249000])"
      ]
     },
     "execution_count": 22,
     "metadata": {},
     "output_type": "execute_result"
    }
   ],
   "source": [
    "# Price (response variable) of the nearest neighbor\n",
    "output_train[best_index]"
   ]
  },
  {
   "cell_type": "markdown",
   "metadata": {},
   "source": [
    "# Perform k-nearest neighbor regression"
   ]
  },
  {
   "cell_type": "markdown",
   "metadata": {},
   "source": [
    "For k-nearest neighbors, find a *set* of k houses in the training set closest to a given query house. Then make predictions based on these k nearest neighbors."
   ]
  },
  {
   "cell_type": "markdown",
   "metadata": {},
   "source": [
    "## Fetch k-nearest neighbors"
   ]
  },
  {
   "cell_type": "code",
   "execution_count": 24,
   "metadata": {
    "collapsed": false
   },
   "outputs": [
    {
     "data": {
      "text/plain": [
       "array([ 382, 1149, 4087])"
      ]
     },
     "execution_count": 24,
     "metadata": {},
     "output_type": "execute_result"
    }
   ],
   "source": [
    "def get_knn(k, feature_matrix, query_vector):\n",
    "    distances = get_all_euclidean_distances(feature_matrix, query_vector)\n",
    "    sort_indices = np.argsort(distances)\n",
    "    return sort_indices[:k]\n",
    "\n",
    "# test\n",
    "get_knn(3, features_train, features_test[2])"
   ]
  },
  {
   "cell_type": "code",
   "execution_count": 25,
   "metadata": {
    "collapsed": false
   },
   "outputs": [
    {
     "data": {
      "text/plain": [
       "array([ 382, 1149, 4087, 3142])"
      ]
     },
     "execution_count": 25,
     "metadata": {},
     "output_type": "execute_result"
    }
   ],
   "source": [
    "get_knn(4, features_train, features_test[2])"
   ]
  },
  {
   "cell_type": "markdown",
   "metadata": {},
   "source": [
    "## Make a single prediction by averaging k nearest neighbor outputs"
   ]
  },
  {
   "cell_type": "markdown",
   "metadata": {},
   "source": [
    "A function that predicts the value of a given query house. **For simplicity, the prediction here is the average of the prices of the k nearest neighbors in the training set**. More interesting models can use a kernel-based estimate from the k nearest neighbors."
   ]
  },
  {
   "cell_type": "code",
   "execution_count": 26,
   "metadata": {
    "collapsed": false
   },
   "outputs": [],
   "source": [
    "def knn_predict(k, feature_matrix, Y, query_vector):\n",
    "    nn = get_knn(k, feature_matrix, query_vector)\n",
    "    prices = Y[nn]\n",
    "    return np.mean(prices)"
   ]
  },
  {
   "cell_type": "code",
   "execution_count": 27,
   "metadata": {
    "collapsed": false
   },
   "outputs": [
    {
     "data": {
      "text/plain": [
       "413987.5"
      ]
     },
     "execution_count": 27,
     "metadata": {},
     "output_type": "execute_result"
    }
   ],
   "source": [
    "knn_predict(4, features_train, output_train, features_test[2])"
   ]
  },
  {
   "cell_type": "markdown",
   "metadata": {},
   "source": [
    "Compare this predicted value using 4-nearest neighbors to the predicted value using 1-nearest neighbor computed earlier."
   ]
  },
  {
   "cell_type": "markdown",
   "metadata": {},
   "source": [
    "## Make multiple predictions"
   ]
  },
  {
   "cell_type": "markdown",
   "metadata": {},
   "source": [
    "Function to predict the value of *each and every* house in a query set. "
   ]
  },
  {
   "cell_type": "code",
   "execution_count": 28,
   "metadata": {
    "collapsed": true
   },
   "outputs": [],
   "source": [
    "def get_knn_for_all(k, feature_matrix, Y, query_vectors):\n",
    "    predictions = []\n",
    "    \n",
    "    for qv in query_vectors:\n",
    "        pred = knn_predict(k, feature_matrix, Y, qv)\n",
    "        predictions.append(pred)\n",
    "        \n",
    "    return predictions"
   ]
  },
  {
   "cell_type": "code",
   "execution_count": 31,
   "metadata": {
    "collapsed": false
   },
   "outputs": [
    {
     "data": {
      "text/plain": [
       "[881300.0,\n",
       " 431860.0,\n",
       " 460595.0,\n",
       " 430200.0,\n",
       " 766750.0,\n",
       " 667420.0,\n",
       " 350032.0,\n",
       " 512800.70000000001,\n",
       " 484000.0,\n",
       " 457235.0]"
      ]
     },
     "execution_count": 31,
     "metadata": {},
     "output_type": "execute_result"
    }
   ],
   "source": [
    "# Predict prices for the first 10 houses in features_test\n",
    "get_knn_for_all(10, features_train, output_train, features_test[:10])"
   ]
  },
  {
   "cell_type": "markdown",
   "metadata": {},
   "source": [
    "## Choosing the best value of k using a validation set"
   ]
  },
  {
   "cell_type": "markdown",
   "metadata": {},
   "source": [
    "Choosing the value of k to use in making predictions using a validation set."
   ]
  },
  {
   "cell_type": "markdown",
   "metadata": {},
   "source": [
    "(Depending on your computing environment, this computation may take 10-15 minutes.)"
   ]
  },
  {
   "cell_type": "markdown",
   "metadata": {
    "collapsed": false
   },
   "source": [
    "To visualize the performance as a function of `k`, plot the RSS on the VALIDATION set for each considered `k` value:"
   ]
  },
  {
   "cell_type": "code",
   "execution_count": 47,
   "metadata": {
    "collapsed": false
   },
   "outputs": [],
   "source": [
    "kvals = range(1, 16)\n",
    "rss_all = []\n",
    "\n",
    "for k in kvals:\n",
    "    preds = get_knn_for_all(k, features_train, output_train, features_valid)\n",
    "    error = preds - output_valid\n",
    "    rss = sum(error ** 2)\n",
    "    rss_all.append(rss)"
   ]
  },
  {
   "cell_type": "code",
   "execution_count": 48,
   "metadata": {
    "collapsed": false
   },
   "outputs": [
    {
     "data": {
      "text/plain": [
       "<matplotlib.text.Text at 0x11e9180d0>"
      ]
     },
     "execution_count": 48,
     "metadata": {},
     "output_type": "execute_result"
    },
    {
     "data": {
      "image/png": "[encoded data removed]",
      "text/plain": [
       "<matplotlib.figure.Figure at 0x11e7bb690>"
      ]
     },
     "metadata": {},
     "output_type": "display_data"
    }
   ],
   "source": [
    "plt.plot(kvals, rss_all,'bo-')\n",
    "plt.xlabel('# nearest neighbors')\n",
    "plt.ylabel('RSS')"
   ]
  },
  {
   "cell_type": "code",
   "execution_count": 49,
   "metadata": {
    "collapsed": false
   },
   "outputs": [],
   "source": [
    "pred_test = get_knn_for_all(8, features_train, output_train, features_test[:])"
   ]
  },
  {
   "cell_type": "code",
   "execution_count": 50,
   "metadata": {
    "collapsed": false
   },
   "outputs": [
    {
     "data": {
      "text/plain": [
       "133118823551516.81"
      ]
     },
     "execution_count": 50,
     "metadata": {},
     "output_type": "execute_result"
    }
   ],
   "source": [
    "error = pred_test - output_test\n",
    "rss = sum(error ** 2)\n",
    "rss"
   ]
  },
  {
   "cell_type": "markdown",
   "metadata": {
    "collapsed": true
   },
   "source": [
    "RSS for the test set with the best *k* from the validation: 1.33e14"
   ]
  }
 ],
 "metadata": {
  "kernelspec": {
   "display_name": "Python 2",
   "language": "python",
   "name": "python2"
  },
  "language_info": {
   "codemirror_mode": {
    "name": "ipython",
    "version": 2
   },
   "file_extension": ".py",
   "mimetype": "text/x-python",
   "name": "python",
   "nbconvert_exporter": "python",
   "pygments_lexer": "ipython2",
   "version": "2.7.11"
  }
 },
 "nbformat": 4,
 "nbformat_minor": 0
}
